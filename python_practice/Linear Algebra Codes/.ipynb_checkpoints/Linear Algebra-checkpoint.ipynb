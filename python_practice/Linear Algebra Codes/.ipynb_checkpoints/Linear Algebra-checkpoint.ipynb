{
 "cells": [
  {
   "cell_type": "code",
   "execution_count": 1,
   "id": "2713bd3c",
   "metadata": {},
   "outputs": [
    {
     "name": "stdout",
     "output_type": "stream",
     "text": [
      "[12, 15]\n"
     ]
    }
   ],
   "source": [
    "u = [2,3]\n",
    "v = [4,5]\n",
    "z = [6,7]\n",
    "\n",
    "result = [sum(t) for t in zip(u,v,z)]\n",
    "\n",
    "print(result)"
   ]
  },
  {
   "cell_type": "code",
   "execution_count": 3,
   "id": "d285cd49",
   "metadata": {},
   "outputs": [
    {
     "name": "stdout",
     "output_type": "stream",
     "text": [
      "[14, 18, 22]\n"
     ]
    }
   ],
   "source": [
    "# Scalar-Vector Product\n",
    "\n",
    "u = [2,3,4]\n",
    "v = [5,6,7]\n",
    "alpha = 2\n",
    "\n",
    "result = [alpha * sum(t) for t in zip(u,v)]\n",
    "print(result)"
   ]
  },
  {
   "cell_type": "code",
   "execution_count": 5,
   "id": "df5a641b",
   "metadata": {},
   "outputs": [
    {
     "name": "stdout",
     "output_type": "stream",
     "text": [
      "[[6, 8], [10, 12]]\n"
     ]
    }
   ],
   "source": [
    "# Matrix addition\n",
    "\n",
    "matrix_a = [[1,2], [3,4]]\n",
    "matrix_b = [[5,6], [7,8]]\n",
    "\n",
    "result = [[sum(index) for index in zip(*row)] for row in zip(matrix_a, matrix_b)]\n",
    "\n",
    "print(result)"
   ]
  },
  {
   "cell_type": "code",
   "execution_count": 7,
   "id": "3ce955d5",
   "metadata": {},
   "outputs": [
    {
     "name": "stdout",
     "output_type": "stream",
     "text": [
      "[[5, 10], [15, 20]]\n"
     ]
    }
   ],
   "source": [
    "# Scalar-Matrix Product\n",
    "\n",
    "matrix_a = [[1,2],[3,4]]\n",
    "scalar = 5\n",
    "\n",
    "result = [[scalar * element for element in row] for row in matrix_a]\n",
    "\n",
    "print(result)"
   ]
  },
  {
   "cell_type": "code",
   "execution_count": 8,
   "id": "407dfdb9",
   "metadata": {},
   "outputs": [
    {
     "name": "stdout",
     "output_type": "stream",
     "text": [
      "[[1, 4], [2, 5], [3, 6]]\n"
     ]
    }
   ],
   "source": [
    "# Matrix Transpose\n",
    "\n",
    "matrix = [[1,2,3],[4,5,6]]\n",
    "\n",
    "result = [[element for element in row]for row in zip(*matrix)]\n",
    "\n",
    "print(result)"
   ]
  },
  {
   "cell_type": "code",
   "execution_count": 11,
   "id": "57ca1bb5",
   "metadata": {},
   "outputs": [
    {
     "name": "stdout",
     "output_type": "stream",
     "text": [
      "[[22, 28], [49, 64]]\n"
     ]
    }
   ],
   "source": [
    "# Matrix Product\n",
    "\n",
    "matrix_a = [[1,2,3], [4,5,6]]\n",
    "matrix_b = [[1,2],[3,4],[5,6]]\n",
    "\n",
    "result = [[sum(a*b for a,b in zip(row_a, column_b)) for column_b in zip(*matrix_b)] for row_a in matrix_a]\n",
    "\n",
    "print(result)"
   ]
  },
  {
   "cell_type": "code",
   "execution_count": null,
   "id": "a10881d4",
   "metadata": {},
   "outputs": [],
   "source": []
  }
 ],
 "metadata": {
  "kernelspec": {
   "display_name": "Python 3",
   "language": "python",
   "name": "python3"
  },
  "language_info": {
   "codemirror_mode": {
    "name": "ipython",
    "version": 3
   },
   "file_extension": ".py",
   "mimetype": "text/x-python",
   "name": "python",
   "nbconvert_exporter": "python",
   "pygments_lexer": "ipython3",
   "version": "3.8.10"
  }
 },
 "nbformat": 4,
 "nbformat_minor": 5
}
