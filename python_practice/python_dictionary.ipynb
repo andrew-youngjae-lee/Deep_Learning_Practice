{
 "cells": [
  {
   "cell_type": "markdown",
   "metadata": {},
   "source": [
    "## Python Dictionary"
   ]
  },
  {
   "cell_type": "code",
   "execution_count": 1,
   "metadata": {},
   "outputs": [
    {
     "name": "stdout",
     "output_type": "stream",
     "text": [
      "[9 5 5 6 8 8 0 0 9 6 1 4 6 2 3 9 3 8 7 7 1 1 8 2 2 0 1 3 6 5 8 1 0 2 2 2 0\n",
      " 2 0 9 6 4 9 8 9 2 1 6 8 3 4 0 1 5 3 7 5 5 5 2 4 8 3 4 0 3 4 3 7 9 2 6 1 8\n",
      " 6 4 9 5 8 4 9 2 7 7 2 2 8 9 0 5 9 7 2 3 4 3 4 2 3 2]\n",
      "Maximum :  9\n",
      "minimum :  0\n",
      "[9, 8, 16, 11, 10, 9, 8, 7, 11, 11]\n"
     ]
    }
   ],
   "source": [
    "#dictionary 와 list 비교\n",
    "import numpy as np\n",
    "\n",
    "score_list = np.random.randint(0, 10, size = (100))\n",
    "print(score_list)\n",
    "\n",
    "Max_, min_ = None, None\n",
    "for score in score_list:\n",
    "    if Max_ == None or score > Max_:\n",
    "        Max_ = score\n",
    "    if min_ == None or score < min_:\n",
    "        min_ = score\n",
    "\n",
    "print('Maximum : ', Max_)\n",
    "print('minimum : ', min_)\n",
    "\n",
    "cnt_list = [0 for i in range(Max_ - min_ + 1)]\n",
    "\n",
    "for score in score_list: #숫자 범위 조금만 바꿔도 오류남 + 데이터 가독성 떨어짐 (리스트 방식의 단점)\n",
    "    cnt_list[score] = cnt_list[score] + 1\n",
    "print(cnt_list)"
   ]
  },
  {
   "cell_type": "code",
   "execution_count": 2,
   "metadata": {},
   "outputs": [
    {
     "name": "stdout",
     "output_type": "stream",
     "text": [
      "{'A': 10, 'B': 20, 'F': 100}\n"
     ]
    }
   ],
   "source": [
    "#dictionary로 만들어보기\n",
    "\n",
    "tmp_dict = dict()\n",
    "tmp_dict['A'] = 10\n",
    "tmp_dict['B'] = 20\n",
    "tmp_dict['F'] = 100\n",
    "print(tmp_dict)\n",
    "#데이터 가독성 뛰어남!"
   ]
  },
  {
   "cell_type": "code",
   "execution_count": 3,
   "metadata": {},
   "outputs": [
    {
     "name": "stdout",
     "output_type": "stream",
     "text": [
      "[0 3 4 1 8 5 7 3 5 3 3 9 9 1 4 1 7 7 0 9 0 1 9 5 6 4 2 8 2 7 0 2 4 2 5 4 6\n",
      " 3 3 0 1 5 1 2 7 0 8 2 3 1 9 7 5 3 9 4 4 7 2 5 0 9 3 1 8 3 6 6 2 9 5 4 4 1\n",
      " 8 1 3 5 7 7 7 6 4 1 2 0 7 3 1 2 5 2 0 4 8 9 7 8 5 2]\n",
      "OrderedDict([(3, 12), (1, 12), (7, 12), (2, 12), (4, 11), (5, 11), (0, 9), (9, 9), (8, 7), (6, 5)])\n",
      "3 12\n",
      "1 12\n",
      "7 12\n",
      "2 12\n",
      "4 11\n",
      "5 11\n",
      "0 9\n",
      "9 9\n",
      "8 7\n",
      "6 5\n"
     ]
    },
    {
     "data": {
      "text/plain": [
       "\"\\nfor key, val in cnt_dict.items():\\n    print(key, val)\\n    \\nprint(item_list)\\n\\nM_score = None\\nM_number = None\\n\\nfor key, val in cnt_dict.items():\\n    if M_number is None or val > M_number:\\n        M_number = val\\n        M_score = key\\n\\nprint('Score : ',M_score, ' Number : ', M_number)\\n\""
      ]
     },
     "execution_count": 3,
     "metadata": {},
     "output_type": "execute_result"
    }
   ],
   "source": [
    "import numpy as np\n",
    "from collections import OrderedDict\n",
    "\n",
    "score_list = np.random.randint(0, 10, size = (100))\n",
    "print(score_list)\n",
    "\n",
    "cnt_dict = dict() \n",
    "\n",
    "for score in score_list:\n",
    "    cnt_dict[score] = cnt_dict.get(score, 0) + 1\n",
    "    #dict의 score를 key로 하는 자료에 접근해서 값이 있으면 그 값을, 없으면 0을 돌려줌\n",
    "\n",
    "#print(cnt_dict)\n",
    "\n",
    "key_list = list(cnt_dict.keys())\n",
    "val_list = list(cnt_dict.values())\n",
    "item_list = cnt_dict.items() #key-value pair를 튜플로 묶어줌\n",
    "\n",
    "#print(key_list)\n",
    "#print(key_list[0])\n",
    "#print(cnt_dict[key_list[0]])\n",
    "\n",
    "sortedScoreDict = OrderedDict(sorted(cnt_dict.items(), key=lambda t: t[1], reverse=True))\n",
    "print(sortedScoreDict)\n",
    "\n",
    "for i, v in sortedScoreDict.items():\n",
    "    print(i,v)\n",
    "\n",
    "\"\"\"\n",
    "for key, val in cnt_dict.items():\n",
    "    print(key, val)\n",
    "    \n",
    "print(item_list)\n",
    "\n",
    "M_score = None\n",
    "M_number = None\n",
    "\n",
    "for key, val in cnt_dict.items():\n",
    "    if M_number is None or val > M_number:\n",
    "        M_number = val\n",
    "        M_score = key\n",
    "\n",
    "print('Score : ',M_score, ' Number : ', M_number)\n",
    "\"\"\""
   ]
  },
  {
   "cell_type": "code",
   "execution_count": null,
   "metadata": {},
   "outputs": [],
   "source": []
  }
 ],
 "metadata": {
  "kernelspec": {
   "display_name": "Python 3",
   "language": "python",
   "name": "python3"
  },
  "language_info": {
   "codemirror_mode": {
    "name": "ipython",
    "version": 3
   },
   "file_extension": ".py",
   "mimetype": "text/x-python",
   "name": "python",
   "nbconvert_exporter": "python",
   "pygments_lexer": "ipython3",
   "version": "3.8.10"
  }
 },
 "nbformat": 4,
 "nbformat_minor": 2
}
