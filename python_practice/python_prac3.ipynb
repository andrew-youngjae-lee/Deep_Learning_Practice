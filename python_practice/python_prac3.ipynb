{
 "cells": [
  {
   "cell_type": "markdown",
   "metadata": {},
   "source": [
    "## Python Dictionary"
   ]
  },
  {
   "cell_type": "code",
   "execution_count": 1,
   "metadata": {},
   "outputs": [
    {
     "name": "stdout",
     "output_type": "stream",
     "text": [
      "[9 5 5 6 8 8 0 0 9 6 1 4 6 2 3 9 3 8 7 7 1 1 8 2 2 0 1 3 6 5 8 1 0 2 2 2 0\n",
      " 2 0 9 6 4 9 8 9 2 1 6 8 3 4 0 1 5 3 7 5 5 5 2 4 8 3 4 0 3 4 3 7 9 2 6 1 8\n",
      " 6 4 9 5 8 4 9 2 7 7 2 2 8 9 0 5 9 7 2 3 4 3 4 2 3 2]\n",
      "Maximum :  9\n",
      "minimum :  0\n",
      "[9, 8, 16, 11, 10, 9, 8, 7, 11, 11]\n"
     ]
    }
   ],
   "source": [
    "#dictionary 와 list 비교\n",
    "import numpy as np\n",
    "\n",
    "score_list = np.random.randint(0, 10, size = (100))\n",
    "print(score_list)\n",
    "\n",
    "Max_, min_ = None, None\n",
    "for score in score_list:\n",
    "    if Max_ == None or score > Max_:\n",
    "        Max_ = score\n",
    "    if min_ == None or score < min_:\n",
    "        min_ = score\n",
    "\n",
    "print('Maximum : ', Max_)\n",
    "print('minimum : ', min_)\n",
    "\n",
    "cnt_list = [0 for i in range(Max_ - min_ + 1)]\n",
    "\n",
    "for score in score_list: #숫자 범위 조금만 바꿔도 오류남 + 데이터 가독성 떨어짐 (리스트 방식의 단점)\n",
    "    cnt_list[score] = cnt_list[score] + 1\n",
    "print(cnt_list)"
   ]
  },
  {
   "cell_type": "code",
   "execution_count": 2,
   "metadata": {},
   "outputs": [
    {
     "name": "stdout",
     "output_type": "stream",
     "text": [
      "{'A': 10, 'B': 20, 'F': 100}\n"
     ]
    }
   ],
   "source": [
    "#dictionary로 만들어보기\n",
    "\n",
    "tmp_dict = dict()\n",
    "tmp_dict['A'] = 10\n",
    "tmp_dict['B'] = 20\n",
    "tmp_dict['F'] = 100\n",
    "print(tmp_dict)\n",
    "#데이터 가독성 뛰어남!"
   ]
  },
  {
   "cell_type": "code",
   "execution_count": 3,
   "metadata": {},
   "outputs": [
    {
     "name": "stdout",
     "output_type": "stream",
     "text": [
      "[3 7 2 5 2 3 9 5 7 5 8 6 0 5 5 2 4 8 7 8 0 5 1 3 8 6 6 7 4 7 3 3 0 8 8 4 6\n",
      " 1 5 8 8 7 0 6 2 2 4 3 0 2 1 7 0 0 5 5 1 7 5 8 5 7 1 9 8 5 7 0 8 4 7 3 5 8\n",
      " 8 6 8 8 1 8 3 7 6 7 6 9 4 2 1 4 2 4 2 5 3 5 8 8 0 5]\n",
      "{3: 9, 7: 13, 2: 9, 5: 16, 9: 3, 8: 18, 6: 8, 0: 9, 4: 8, 1: 7}\n",
      "3 9\n",
      "7 13\n",
      "2 9\n",
      "5 16\n",
      "9 3\n",
      "8 18\n",
      "6 8\n",
      "0 9\n",
      "4 8\n",
      "1 7\n",
      "Score :  1  Number :  7\n",
      "dict_items([(3, 9), (7, 13), (2, 9), (5, 16), (9, 3), (8, 18), (6, 8), (0, 9), (4, 8), (1, 7)])\n"
     ]
    }
   ],
   "source": [
    "import numpy as np\n",
    "\n",
    "score_list = np.random.randint(0, 10, size = (100))\n",
    "print(score_list)\n",
    "\n",
    "cnt_dict = dict() \n",
    "\n",
    "for score in score_list:\n",
    "    cnt_dict[score] = cnt_dict.get(score, 0) + 1\n",
    "    #dict의 score를 key로 하는 자료에 접근해서 값이 있으면 그 값을, 없으면 0을 돌려줌\n",
    "\n",
    "print(cnt_dict)\n",
    "\n",
    "key_list = list(cnt_dict.keys())\n",
    "val_list = list(cnt_dict.values())\n",
    "item_list = cnt_dict.items() #key-value pair를 튜플로 묶어줌\n",
    "\n",
    "#print(key_list)\n",
    "#print(key_list[0])\n",
    "#print(cnt_dict[key_list[0]])\n",
    "\n",
    "for key, val in cnt_dict.items():\n",
    "    print(key, val)\n",
    "\n",
    "M_score = None\n",
    "M_number = None\n",
    "for key, val in cnt_dict.items():\n",
    "    if M_number is None or val > M_number:\n",
    "        M_numebr = val\n",
    "        M_score = key\n",
    "print('Score : ',M_score, ' Number : ', M_numebr)\n",
    "print(cnt_dict.items())"
   ]
  },
  {
   "cell_type": "code",
   "execution_count": null,
   "metadata": {},
   "outputs": [],
   "source": []
  }
 ],
 "metadata": {
  "kernelspec": {
   "display_name": "Python 3",
   "language": "python",
   "name": "python3"
  },
  "language_info": {
   "codemirror_mode": {
    "name": "ipython",
    "version": 3
   },
   "file_extension": ".py",
   "mimetype": "text/x-python",
   "name": "python",
   "nbconvert_exporter": "python",
   "pygments_lexer": "ipython3",
   "version": "3.7.4"
  }
 },
 "nbformat": 4,
 "nbformat_minor": 2
}
