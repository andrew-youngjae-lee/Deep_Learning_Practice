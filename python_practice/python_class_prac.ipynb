{
 "cells": [
  {
   "cell_type": "code",
   "execution_count": 1,
   "metadata": {},
   "outputs": [
    {
     "name": "stdout",
     "output_type": "stream",
     "text": [
      "['__class__', '__delattr__', '__dict__', '__dir__', '__doc__', '__eq__', '__format__', '__ge__', '__getattribute__', '__gt__', '__hash__', '__init__', '__init_subclass__', '__le__', '__lt__', '__module__', '__ne__', '__new__', '__reduce__', '__reduce_ex__', '__repr__', '__setattr__', '__sizeof__', '__str__', '__subclasshook__', '__weakref__', 'method1', 'method2', 'x', 'y']\n"
     ]
    }
   ],
   "source": [
    "class tmp_class:\n",
    "    def __init__(self):\n",
    "        self.x = 0\n",
    "        self.y = 0\n",
    "    def method1():\n",
    "        pass\n",
    "    def method2():\n",
    "        pass\n",
    "    \n",
    "tmp = tmp_class()\n",
    "print(dir(tmp)) #class의 method, class variable, instance variable을 보여주는 함수"
   ]
  },
  {
   "cell_type": "code",
   "execution_count": 3,
   "metadata": {},
   "outputs": [
    {
     "name": "stdout",
     "output_type": "stream",
     "text": [
      "['__abs__', '__add__', '__bool__', '__class__', '__delattr__', '__dir__', '__divmod__', '__doc__', '__eq__', '__float__', '__floordiv__', '__format__', '__ge__', '__getattribute__', '__getnewargs__', '__gt__', '__hash__', '__init__', '__init_subclass__', '__int__', '__le__', '__lt__', '__mod__', '__mul__', '__ne__', '__neg__', '__new__', '__pos__', '__pow__', '__radd__', '__rdivmod__', '__reduce__', '__reduce_ex__', '__repr__', '__rfloordiv__', '__rmod__', '__rmul__', '__rpow__', '__rsub__', '__rtruediv__', '__setattr__', '__sizeof__', '__str__', '__sub__', '__subclasshook__', '__truediv__', 'conjugate', 'imag', 'real']\n",
      "10.0\n",
      "20.0\n"
     ]
    }
   ],
   "source": [
    "a=10 + 20j #python에서는 char이나 int , string, floating point 등도 클래스로 구현되어있음\n",
    "print(dir(a))\n",
    "\n",
    "print(a.real)\n",
    "print(a.imag)"
   ]
  },
  {
   "cell_type": "code",
   "execution_count": 7,
   "metadata": {},
   "outputs": [
    {
     "name": "stdout",
     "output_type": "stream",
     "text": [
      "['__add__', '__class__', '__contains__', '__delattr__', '__delitem__', '__dir__', '__doc__', '__eq__', '__format__', '__ge__', '__getattribute__', '__getitem__', '__gt__', '__hash__', '__iadd__', '__imul__', '__init__', '__init_subclass__', '__iter__', '__le__', '__len__', '__lt__', '__mul__', '__ne__', '__new__', '__reduce__', '__reduce_ex__', '__repr__', '__reversed__', '__rmul__', '__setattr__', '__setitem__', '__sizeof__', '__str__', '__subclasshook__', 'append', 'clear', 'copy', 'count', 'extend', 'index', 'insert', 'pop', 'remove', 'reverse', 'sort']\n",
      "None\n",
      "[5, 2, 3, 10]\n",
      "[2, 3, 5, 10]\n",
      "[10, 5, 3, 2]\n"
     ]
    }
   ],
   "source": [
    "b = [5,2,3]\n",
    "print(dir(b))\n",
    "print(b.append(10))\n",
    "print(b)\n",
    "#list도 클래스로 구현되어있음\n",
    "b.sort()\n",
    "print(b)\n",
    "b.sort(reverse = True)\n",
    "print(b)"
   ]
  },
  {
   "cell_type": "code",
   "execution_count": 8,
   "metadata": {},
   "outputs": [
    {
     "name": "stdout",
     "output_type": "stream",
     "text": [
      "['__add__', '__class__', '__contains__', '__delattr__', '__dir__', '__doc__', '__eq__', '__format__', '__ge__', '__getattribute__', '__getitem__', '__getnewargs__', '__gt__', '__hash__', '__init__', '__init_subclass__', '__iter__', '__le__', '__len__', '__lt__', '__mod__', '__mul__', '__ne__', '__new__', '__reduce__', '__reduce_ex__', '__repr__', '__rmod__', '__rmul__', '__setattr__', '__sizeof__', '__str__', '__subclasshook__', 'capitalize', 'casefold', 'center', 'count', 'encode', 'endswith', 'expandtabs', 'find', 'format', 'format_map', 'index', 'isalnum', 'isalpha', 'isascii', 'isdecimal', 'isdigit', 'isidentifier', 'islower', 'isnumeric', 'isprintable', 'isspace', 'istitle', 'isupper', 'join', 'ljust', 'lower', 'lstrip', 'maketrans', 'partition', 'replace', 'rfind', 'rindex', 'rjust', 'rpartition', 'rsplit', 'rstrip', 'split', 'splitlines', 'startswith', 'strip', 'swapcase', 'title', 'translate', 'upper', 'zfill']\n"
     ]
    }
   ],
   "source": [
    "c = \"Hello\"\n",
    "print(dir(c))"
   ]
  },
  {
   "cell_type": "markdown",
   "metadata": {},
   "source": [
    "# Python Class Practice\n",
    "## 점수를 학점으로 바꿔주는 Class"
   ]
  },
  {
   "cell_type": "code",
   "execution_count": 12,
   "metadata": {},
   "outputs": [
    {
     "name": "stdout",
     "output_type": "stream",
     "text": [
      "['F', 'C', 'F', 'A', 'A', 'F', 'F', 'F', 'C']\n"
     ]
    }
   ],
   "source": [
    "class grader:\n",
    "    def __init__(self, score_list):\n",
    "        self.score_list = score_list\n",
    "        \n",
    "        self._grade_list = None\n",
    "        self._cutoff_list = None\n",
    "        \n",
    "        self._init_grader()\n",
    "        \n",
    "    def _init_grader(self):\n",
    "        self._grade_list = ['A', 'B', 'C', 'F']\n",
    "        self._cutoff_list = [100, 90, 80, 70, 0]\n",
    "        \n",
    "    def score2grade(self):\n",
    "        return_grade_list = []\n",
    "        for score_idx, score in enumerate(self.score_list):\n",
    "            if score >= self._cutoff_list[1] and \\\n",
    "            score < self._cutoff_list[0]:\n",
    "                return_grade_list.append(self._grade_list[0])\n",
    "                \n",
    "            elif score >= self._cutoff_list[2] and \\\n",
    "            score < self._cutoff_list[1]:\n",
    "                return_grade_list.append(self._grade_list[1])\n",
    "                \n",
    "            elif score >= self._cutoff_list[3] and \\\n",
    "            score < self._cutoff_list[2]:\n",
    "                return_grade_list.append(self._grade_list[2])\n",
    "                \n",
    "            elif score >= self._cutoff_list[4] and \\\n",
    "            score < self._cutoff_list[3]:\n",
    "                return_grade_list.append(self._grade_list[3])\n",
    "                \n",
    "            else:\n",
    "                class scoreError(Exception):\n",
    "                    pass\n",
    "                raise scoreError(\"Invalid Score Detected\")\n",
    "            #    return_grade_list.append(\"NR\")\n",
    "            \n",
    "                \n",
    "        print(return_grade_list)\n",
    "                \n",
    "score_list1 = [50, 70, 40, 90, 95, 20, 15, 65, 77]\n",
    "\n",
    "tmp = grader(score_list1)\n",
    "tmp.score2grade()\n",
    "                "
   ]
  },
  {
   "cell_type": "code",
   "execution_count": null,
   "metadata": {},
   "outputs": [],
   "source": []
  }
 ],
 "metadata": {
  "kernelspec": {
   "display_name": "Python 3",
   "language": "python",
   "name": "python3"
  },
  "language_info": {
   "codemirror_mode": {
    "name": "ipython",
    "version": 3
   },
   "file_extension": ".py",
   "mimetype": "text/x-python",
   "name": "python",
   "nbconvert_exporter": "python",
   "pygments_lexer": "ipython3",
   "version": "3.7.4"
  }
 },
 "nbformat": 4,
 "nbformat_minor": 2
}
