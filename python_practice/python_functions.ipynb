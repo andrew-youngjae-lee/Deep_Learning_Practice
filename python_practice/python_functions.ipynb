{
 "cells": [
  {
   "cell_type": "markdown",
   "metadata": {},
   "source": [
    "## Python Functions"
   ]
  },
  {
   "cell_type": "code",
   "execution_count": 5,
   "metadata": {},
   "outputs": [
    {
     "name": "stdout",
     "output_type": "stream",
     "text": [
      "operand1 :  10\n",
      "operand2 :  20\n",
      "10  +  20  =  30 \n",
      "\n",
      "operand1 :  100\n",
      "operand2 :  200\n",
      "100  +  200  =  300 \n",
      "\n"
     ]
    }
   ],
   "source": [
    "def adder(operand1, operand2):\n",
    "    print(\"operand1 : \", operand1)\n",
    "    print(\"operand2 : \", operand2)\n",
    "    print(operand1, \" + \", operand2, \" = \", operand1+operand2, '\\n')\n",
    "    \n",
    "a = 10\n",
    "b = 20\n",
    "adder(a,b)\n",
    "adder(a*10, b*10)"
   ]
  },
  {
   "cell_type": "code",
   "execution_count": 2,
   "metadata": {},
   "outputs": [
    {
     "name": "stdout",
     "output_type": "stream",
     "text": [
      "30\n",
      "50\n"
     ]
    }
   ],
   "source": [
    "#함수 내부의 값은 함수가 종료될 때 같이 사라지는데 그 값을 global field에서 계속 사용하고 싶다면 return 값으로 받아줘야함\n",
    "def adder(operand1, operand2):\n",
    "    addition = operand1 + operand2\n",
    "    return addition\n",
    "\n",
    "addition1 = adder(10,20)\n",
    "addition2 = adder(20,30)\n",
    "\n",
    "print(addition1)\n",
    "print(addition2)"
   ]
  },
  {
   "cell_type": "code",
   "execution_count": 3,
   "metadata": {},
   "outputs": [
    {
     "name": "stdout",
     "output_type": "stream",
     "text": [
      "[0, 1, 2, 3, 4, 5, 6, 7, 8, 9, 10, 11, 12, 13, 14, 15, 16, 17, 18, 19, 20, 21, 22, 23, 24, 25, 26, 27, 28, 29, 30, 31, 32, 33, 34, 35, 36, 37, 38, 39, 40, 41, 42, 43, 44, 45, 46, 47, 48, 49, 50, 51, 52, 53, 54, 55, 56, 57, 58, 59, 60, 61, 62, 63, 64, 65, 66, 67, 68, 69, 70, 71, 72, 73, 74, 75, 76, 77, 78, 79, 80, 81, 82, 83, 84, 85, 86, 87, 88, 89, 90, 91, 92, 93, 94, 95, 96, 97, 98, 99] \n",
      "\n",
      "[20, 21, 22, 23, 24, 25, 26, 27, 28, 29, 30]\n"
     ]
    }
   ],
   "source": [
    "tmp_list = [i for i in range(100)]\n",
    "print(tmp_list, '\\n')\n",
    "\n",
    "def extractor(input_list, cutoff_min, cutoff_max):\n",
    "    return_list = []\n",
    "    for val in input_list:\n",
    "        if val >= cutoff_min and val <= cutoff_max:\n",
    "            return_list.append(val)\n",
    "            \n",
    "    return return_list\n",
    "    \n",
    "e_list = extractor(tmp_list, 20, 30)\n",
    "print(e_list)"
   ]
  },
  {
   "cell_type": "code",
   "execution_count": 4,
   "metadata": {},
   "outputs": [
    {
     "name": "stdout",
     "output_type": "stream",
     "text": [
      "[0, 1, 2, 3, 4, 5, 6, 7, 8, 9, 10, 11, 12, 13, 14, 15, 16, 17, 18, 19, 20, 21, 22, 23, 24, 25, 26, 27, 28, 29, 30, 31, 32, 33, 34, 35, 36, 37, 38, 39, 40, 41, 42, 43, 44, 45, 46, 47, 48, 49, 50, 51, 52, 53, 54, 55, 56, 57, 58, 59, 60, 61, 62, 63, 64, 65, 66, 67, 68, 69, 70, 71, 72, 73, 74, 75, 76, 77, 78, 79, 80, 81, 82, 83, 84, 85, 86, 87, 88, 89, 90, 91, 92, 93, 94, 95, 96, 97, 98, 99] \n",
      "\n",
      "[0, 1, 2, 3, 4, 5, 6, 7, 8, 9]\n",
      "[10, 11, 12, 13, 14, 15, 16, 17, 18, 19]\n",
      "[20, 21, 22, 23, 24, 25, 26, 27, 28, 29]\n",
      "[30, 31, 32, 33, 34, 35, 36, 37, 38, 39]\n",
      "[40, 41, 42, 43, 44, 45, 46, 47, 48, 49]\n",
      "[50, 51, 52, 53, 54, 55, 56, 57, 58, 59]\n",
      "[60, 61, 62, 63, 64, 65, 66, 67, 68, 69]\n"
     ]
    }
   ],
   "source": [
    "tmp_list = [i for i in range(100)]\n",
    "print(tmp_list, '\\n')\n",
    "\n",
    "def extractor(input_list, cutoff_min, cutoff_max):\n",
    "    return_list = []\n",
    "    for val in input_list:\n",
    "        if val >= cutoff_min and val < cutoff_max:\n",
    "            return_list.append(val)\n",
    "            \n",
    "    return return_list\n",
    "    \n",
    "for cutoff_min in range(0,70,10):\n",
    "    e_list = extractor(tmp_list, cutoff_min, cutoff_min + 10)\n",
    "    print(e_list)"
   ]
  },
  {
   "cell_type": "markdown",
   "metadata": {},
   "source": [
    "## Global vs Local Variable"
   ]
  },
  {
   "cell_type": "code",
   "execution_count": 7,
   "metadata": {},
   "outputs": [
    {
     "name": "stdout",
     "output_type": "stream",
     "text": [
      "Global!\n"
     ]
    }
   ],
   "source": [
    "a = 'Global!'#globa variable\n",
    "\n",
    "def tmp_func():\n",
    "    print(a)  #namespace에서 찾아갈 때 local에서 a에 대한 정의를 찾지 못하면 global 변수에서 찾아 수행\n",
    "    \n",
    "tmp_func()"
   ]
  },
  {
   "cell_type": "code",
   "execution_count": 8,
   "metadata": {},
   "outputs": [
    {
     "name": "stdout",
     "output_type": "stream",
     "text": [
      "Local!\n"
     ]
    }
   ],
   "source": [
    "a = 'Global!'#global variable\n",
    "\n",
    "def tmp_func():\n",
    "    a = 'Local!' #local variable #local에 a가 정의되어있으면 우선 수행\n",
    "    print(a)  \n",
    "    \n",
    "tmp_func()"
   ]
  },
  {
   "cell_type": "code",
   "execution_count": null,
   "metadata": {},
   "outputs": [],
   "source": []
  }
 ],
 "metadata": {
  "kernelspec": {
   "display_name": "Python 3",
   "language": "python",
   "name": "python3"
  },
  "language_info": {
   "codemirror_mode": {
    "name": "ipython",
    "version": 3
   },
   "file_extension": ".py",
   "mimetype": "text/x-python",
   "name": "python",
   "nbconvert_exporter": "python",
   "pygments_lexer": "ipython3",
   "version": "3.7.4"
  }
 },
 "nbformat": 4,
 "nbformat_minor": 2
}
