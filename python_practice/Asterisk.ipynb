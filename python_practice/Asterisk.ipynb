{
 "cells": [
  {
   "cell_type": "markdown",
   "id": "d5d0a498",
   "metadata": {},
   "source": [
    "## packing : 인자로 받은 여러개의 값을 하나의 객체로 합쳐서 받을 수 있도록 합니다.\n",
    "### 위치인자 패킹은 *한개를 매개변수 앞에 붙임으로 사용합니다.\n",
    "### 매개변수 이름 앞에 *을 붙여준다면, 위치인자로 보낸 모든 객체들을 하나의 객체로 관리해줍니다.\n",
    "\n",
    "## unpacking : 여러개의 객체를 포함하고 있는 하나의 객체를 풀어줍니다.\n",
    "### 함수에서 unpacking을 할때는, 매개변수에서 *을 붙이는게 아니라 인자 앞에 *을 붙여서 사용합니다."
   ]
  },
  {
   "cell_type": "markdown",
   "id": "e7f8415a",
   "metadata": {},
   "source": [
    "# Asterisk\n",
    "## 곱, 제곱, 가변인자"
   ]
  },
  {
   "cell_type": "code",
   "execution_count": 2,
   "id": "54f6de12",
   "metadata": {},
   "outputs": [
    {
     "name": "stdout",
     "output_type": "stream",
     "text": [
      "1 (2, 3, 4, 5)\n",
      "<class 'tuple'>\n"
     ]
    }
   ],
   "source": [
    "def asterisk_test(a, *args): #처음 값은 a로 받고 나머지는 한꺼번에 받아라 => 2,3,4,5를 한개의 튜플로 합쳐서 받음\n",
    "    print(a, args)\n",
    "    print(type(args))\n",
    "    \n",
    "asterisk_test(1,2,3,4,5)\n",
    "# 위치인자가 패킹하는 매개변수를 만나면 그 이후에 위치인자가 몇개이던지, tuple로 하나의 객체가 되어서 관리됨."
   ]
  },
  {
   "cell_type": "code",
   "execution_count": 1,
   "id": "ef8954a1",
   "metadata": {},
   "outputs": [
    {
     "name": "stdout",
     "output_type": "stream",
     "text": [
      "아버지 : 홍길동\n",
      "어머니 : 심사임당\n",
      "호적 메이트..\n",
      "김태희\n",
      "윤아\n"
     ]
    }
   ],
   "source": [
    "def print_family_name(father, mother, *sibling): #반드시 받아야 하는 매개변수와 여러개를 한꺼번에 받을 매개변수를 구분 가능\n",
    "      print(\"아버지 :\", father)\n",
    "      print(\"어머니 :\", mother)\n",
    "      if sibling:\n",
    "           print(\"호적 메이트..\")\n",
    "           for name in sibling:\n",
    "                 print(name)\n",
    "\n",
    "print_family_name(\"홍길동\", '심사임당', '김태희', '윤아')"
   ]
  },
  {
   "cell_type": "markdown",
   "id": "b03a8443",
   "metadata": {},
   "source": [
    "## **krgs 키워드 인자"
   ]
  },
  {
   "cell_type": "code",
   "execution_count": 4,
   "id": "444873b1",
   "metadata": {},
   "outputs": [
    {
     "name": "stdout",
     "output_type": "stream",
     "text": [
      "1 {'b': 2, 'c': 3, 'd': 4, 'e': 5}\n",
      "<class 'dict'>\n"
     ]
    }
   ],
   "source": [
    "def asterisk_test(a, **kargs): # 키워드 인자는 패킹한 인자들을 키워드와 인자 쌍으로 이뤄진 딕셔너리로 관리함.\n",
    "    print(a, kargs)\n",
    "    print(type(kargs))\n",
    "    \n",
    "asterisk_test(1, b=2, c=3, d=4, e=5)"
   ]
  },
  {
   "cell_type": "code",
   "execution_count": 5,
   "id": "e26c8b84",
   "metadata": {},
   "outputs": [
    {
     "name": "stdout",
     "output_type": "stream",
     "text": [
      "{'a': 1, 'b': 2, 'c': 3, 'd': 4, 'e': 5}\n",
      "<class 'dict'>\n"
     ]
    }
   ],
   "source": [
    "def asterisk_test(**kargs):\n",
    "    print(kargs)\n",
    "    print(type(kargs))\n",
    "    \n",
    "asterisk_test(a=1, b=2, c=3, d=4, e=5)"
   ]
  },
  {
   "cell_type": "markdown",
   "id": "b6e5b9f5",
   "metadata": {},
   "source": [
    "# Asterisk - unpacking a container\n",
    "## -tuple, dict 등 자료형에 들어가 있는 값들을 unpacking\n",
    "## -함수의 입력값, zip 등에 유용하게 사용 가능"
   ]
  },
  {
   "cell_type": "code",
   "execution_count": 6,
   "id": "cff6d0f9",
   "metadata": {},
   "outputs": [
    {
     "name": "stdout",
     "output_type": "stream",
     "text": [
      "1 (2, 3, 4, 5, 6)\n",
      "<class 'tuple'>\n"
     ]
    }
   ],
   "source": [
    "def asterisk_test(a, *args):\n",
    "    print(a, args[0])\n",
    "    print(type(args))\n",
    "\n",
    "asterisk_test(1, (2, 3, 4, 5, 6))#args에 들어가는 값은 \"1개의 튜플값\" => args[0]으로 참조해야 (2,3,4,5,6)을 얻을 수 있음"
   ]
  },
  {
   "cell_type": "code",
   "execution_count": 8,
   "id": "efc1aaab",
   "metadata": {},
   "outputs": [
    {
     "name": "stdout",
     "output_type": "stream",
     "text": [
      "1 ((2, 3, 4, 5, 6),)\n",
      "<class 'tuple'>\n"
     ]
    }
   ],
   "source": [
    "def asterisk_test(a, *args):\n",
    "    print(a, args) # args로만 참조하면 (2,3,4,5,6)이 튜플 속의 첫번째 튜플 자료형으로 취급됨(1개의 변수로 취급되는 것).\n",
    "    print(type(args))\n",
    "\n",
    "asterisk_test(1, (2, 3, 4, 5, 6))"
   ]
  },
  {
   "cell_type": "code",
   "execution_count": 10,
   "id": "62310319",
   "metadata": {},
   "outputs": [
    {
     "name": "stdout",
     "output_type": "stream",
     "text": [
      "1 2 3 4 5 6\n",
      "<class 'tuple'>\n"
     ]
    }
   ],
   "source": [
    "def asterisk_test(a, args):\n",
    "    print(a, *args) # (2,3,4,5,6)을 tuple 형태로 받은 후 unpacking => 1개의 변수로 들어갔지만 여러개의 변수로 unpacking됨\n",
    "    print(type(args))\n",
    "\n",
    "asterisk_test(1, (2,3,4,5,6))"
   ]
  },
  {
   "cell_type": "code",
   "execution_count": 11,
   "id": "e9720d10",
   "metadata": {},
   "outputs": [
    {
     "name": "stdout",
     "output_type": "stream",
     "text": [
      "[1, 2] [3, 4] [5, 6]\n",
      "[1, 2] [3, 4] [5, 6]\n"
     ]
    }
   ],
   "source": [
    "a, b, c = ([1, 2], [3, 4], [5, 6])\n",
    "print(a, b, c)\n",
    "\n",
    "data = ([1, 2], [3, 4], [5, 6])\n",
    "print(*data)"
   ]
  },
  {
   "cell_type": "code",
   "execution_count": 12,
   "id": "b5e0eca2",
   "metadata": {},
   "outputs": [
    {
     "name": "stdout",
     "output_type": "stream",
     "text": [
      "[1, 2] [3, 4] [5, 6]\n"
     ]
    }
   ],
   "source": [
    "a,b,c = [1,2], [3,4], [5,6]\n",
    "print(a,b,c)"
   ]
  },
  {
   "cell_type": "code",
   "execution_count": 14,
   "id": "76d67844",
   "metadata": {},
   "outputs": [
    {
     "name": "stdout",
     "output_type": "stream",
     "text": [
      "10 1 2 3\n"
     ]
    }
   ],
   "source": [
    "def asterisk_test(a,b,c,d):\n",
    "    print(a,b,c,d)\n",
    "\n",
    "data = {\"b\":1 , \"c\":2, \"d\":3} # dict의 key와 value를 unpacking하여 value를 매개변수에 각각 저장\n",
    "asterisk_test(10, **data)"
   ]
  },
  {
   "cell_type": "code",
   "execution_count": 16,
   "id": "67ac5b54",
   "metadata": {},
   "outputs": [
    {
     "name": "stdout",
     "output_type": "stream",
     "text": [
      "(1, 3, 5)\n",
      "9\n",
      "(2, 4, 6)\n",
      "12\n"
     ]
    }
   ],
   "source": [
    "for data in zip(*([1, 2], [3, 4], [5, 6])):\n",
    "    print(data)\n",
    "    print(sum(data))"
   ]
  },
  {
   "cell_type": "code",
   "execution_count": 19,
   "id": "1a476a1a",
   "metadata": {},
   "outputs": [
    {
     "name": "stdout",
     "output_type": "stream",
     "text": [
      "1 2 3 4 5\n"
     ]
    }
   ],
   "source": [
    "def asterisk_test(a,b,c,d,e):\n",
    "    print(a,b,c,d,e)\n",
    "    \n",
    "data = {\"d\":4, \"c\":3, \"b\":2, \"e\":5}\n",
    "\n",
    "asterisk_test(1, **data) # dict를 key와 value로 unpacking하여 각각 일치하는 매개변수에 대입함"
   ]
  },
  {
   "cell_type": "code",
   "execution_count": null,
   "id": "422489f3",
   "metadata": {},
   "outputs": [],
   "source": []
  }
 ],
 "metadata": {
  "kernelspec": {
   "display_name": "Python 3",
   "language": "python",
   "name": "python3"
  },
  "language_info": {
   "codemirror_mode": {
    "name": "ipython",
    "version": 3
   },
   "file_extension": ".py",
   "mimetype": "text/x-python",
   "name": "python",
   "nbconvert_exporter": "python",
   "pygments_lexer": "ipython3",
   "version": "3.8.10"
  }
 },
 "nbformat": 4,
 "nbformat_minor": 5
}
