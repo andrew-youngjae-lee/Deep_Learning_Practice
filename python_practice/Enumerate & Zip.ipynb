{
 "cells": [
  {
   "cell_type": "markdown",
   "id": "473f9004",
   "metadata": {},
   "source": [
    "# Enumerate\n",
    "## List의 element를 추출할 때 index를 붙여서 추출"
   ]
  },
  {
   "cell_type": "code",
   "execution_count": 7,
   "id": "b9075aa6",
   "metadata": {},
   "outputs": [
    {
     "name": "stdout",
     "output_type": "stream",
     "text": [
      "0 tic\n",
      "1 tac\n",
      "2 tok\n"
     ]
    }
   ],
   "source": [
    "for v, i in enumerate([\"tic\", \"tac\", \"tok\"]):\n",
    "    #list의 index와 value를 unpacking\n",
    "    print(v,i)"
   ]
  },
  {
   "cell_type": "code",
   "execution_count": 8,
   "id": "b1fd668f",
   "metadata": {},
   "outputs": [
    {
     "data": {
      "text/plain": [
       "[(0, 'a'), (1, 'b'), (2, 'c'), (3, 'd')]"
      ]
     },
     "execution_count": 8,
     "metadata": {},
     "output_type": "execute_result"
    }
   ],
   "source": [
    "mylist = [\"a\", \"b\", \"c\", \"d\"]\n",
    "\n",
    "list(enumerate(mylist)) #list의 index와 value를 unpacking하여 list로 저장"
   ]
  },
  {
   "cell_type": "code",
   "execution_count": 5,
   "id": "3cbd1ff3",
   "metadata": {},
   "outputs": [
    {
     "data": {
      "text/plain": [
       "{0: 'Hanyang',\n",
       " 1: 'University',\n",
       " 2: 'is',\n",
       " 3: 'the',\n",
       " 4: 'first',\n",
       " 5: 'engineering',\n",
       " 6: 'institute',\n",
       " 7: 'in',\n",
       " 8: 'South',\n",
       " 9: 'Korea.'}"
      ]
     },
     "execution_count": 5,
     "metadata": {},
     "output_type": "execute_result"
    }
   ],
   "source": [
    "{i:j for i, j in enumerate(\"Hanyang University is the first engineering institute in South Korea.\".split())}\n",
    "#문장을 list로 만들고 list의 index와 value를 unpacking하여 dict로 저장"
   ]
  },
  {
   "cell_type": "markdown",
   "id": "ac162940",
   "metadata": {},
   "source": [
    "# Zip\n",
    "## 두 개의 list의 값을 병렬적으로 추출함"
   ]
  },
  {
   "cell_type": "code",
   "execution_count": 9,
   "id": "e6de5ef9",
   "metadata": {},
   "outputs": [
    {
     "name": "stdout",
     "output_type": "stream",
     "text": [
      "a1 b1\n",
      "a2 b2\n",
      "a3 b3\n"
     ]
    }
   ],
   "source": [
    "a_list = [\"a1\", \"a2\", \"a3\"]\n",
    "b_list = [\"b1\", \"b2\", \"b3\"]\n",
    "\n",
    "for a, b in zip(a_list, b_list): #두개의 list 안에 같은 index에 위치한 값들을 추출하는 방법\n",
    "    print(a,b)"
   ]
  },
  {
   "cell_type": "code",
   "execution_count": 10,
   "id": "c2ae386f",
   "metadata": {},
   "outputs": [
    {
     "name": "stdout",
     "output_type": "stream",
     "text": [
      "('a1', 'b1')\n",
      "('a2', 'b2')\n",
      "('a3', 'b3')\n"
     ]
    }
   ],
   "source": [
    "a_list = [\"a1\", \"a2\", \"a3\"]\n",
    "b_list = [\"b1\", \"b2\", \"b3\"]\n",
    "\n",
    "for x in zip(a_list, b_list): \n",
    "    print(x)"
   ]
  },
  {
   "cell_type": "code",
   "execution_count": 14,
   "id": "03571f32",
   "metadata": {},
   "outputs": [
    {
     "name": "stdout",
     "output_type": "stream",
     "text": [
      "(1, 10, 100) (2, 20, 200) (3, 30, 300)\n"
     ]
    }
   ],
   "source": [
    "a,b,c = zip((1,2,3), (10,20,30), (100,200,300)) #각 tuple의 같은 index끼리 묶음\n",
    "print(a,b,c)"
   ]
  },
  {
   "cell_type": "code",
   "execution_count": 15,
   "id": "67dfac2b",
   "metadata": {},
   "outputs": [
    {
     "data": {
      "text/plain": [
       "[111, 222, 333]"
      ]
     },
     "execution_count": 15,
     "metadata": {},
     "output_type": "execute_result"
    }
   ],
   "source": [
    "[sum(x) for x in zip((1,2,3), (10,20,30), (100,200,300))] #각 tuple의 같은 index끼리 더하여 list로 반환"
   ]
  },
  {
   "cell_type": "markdown",
   "id": "51f5dda9",
   "metadata": {},
   "source": [
    "# Enumerate & Zip"
   ]
  },
  {
   "cell_type": "code",
   "execution_count": 16,
   "id": "452ee129",
   "metadata": {},
   "outputs": [
    {
     "name": "stdout",
     "output_type": "stream",
     "text": [
      "0 a1 b1\n",
      "1 a2 b2\n",
      "2 a3 b3\n"
     ]
    }
   ],
   "source": [
    "a_list = [\"a1\", \"a2\", \"a3\"]\n",
    "b_list = [\"b1\", \"b2\", \"b3\"]\n",
    "\n",
    "for i, (a,b) in enumerate(zip(a_list, b_list)):\n",
    "    print(i,a,b)"
   ]
  },
  {
   "cell_type": "code",
   "execution_count": null,
   "id": "1610dfd6",
   "metadata": {},
   "outputs": [],
   "source": []
  }
 ],
 "metadata": {
  "kernelspec": {
   "display_name": "Python 3",
   "language": "python",
   "name": "python3"
  },
  "language_info": {
   "codemirror_mode": {
    "name": "ipython",
    "version": 3
   },
   "file_extension": ".py",
   "mimetype": "text/x-python",
   "name": "python",
   "nbconvert_exporter": "python",
   "pygments_lexer": "ipython3",
   "version": "3.8.10"
  }
 },
 "nbformat": 4,
 "nbformat_minor": 5
}
