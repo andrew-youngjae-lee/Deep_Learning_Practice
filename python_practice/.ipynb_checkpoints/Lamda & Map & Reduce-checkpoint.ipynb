{
 "cells": [
  {
   "cell_type": "markdown",
   "id": "5f25d975",
   "metadata": {},
   "source": [
    "# Lamda\n",
    "## 함수 이름 없이 함수처럼 쓸 수 있는 익명함수"
   ]
  },
  {
   "cell_type": "code",
   "execution_count": 4,
   "id": "7dd1d5e6",
   "metadata": {},
   "outputs": [
    {
     "name": "stdout",
     "output_type": "stream",
     "text": [
      "5\n"
     ]
    }
   ],
   "source": [
    "f = lambda x,y: x+y # <익명함수이름> = lambda <매개변수>: <반환값 or 연산>\n",
    "print(f(1,4))"
   ]
  },
  {
   "cell_type": "markdown",
   "id": "0012bb7a",
   "metadata": {},
   "source": [
    "# Map & Reduce"
   ]
  },
  {
   "cell_type": "markdown",
   "id": "6fd95b07",
   "metadata": {},
   "source": [
    "# Map function\n",
    "## Sequence 자료형의 각 element에 동일한 function을 적용함"
   ]
  },
  {
   "cell_type": "code",
   "execution_count": 5,
   "id": "ca27f44b",
   "metadata": {},
   "outputs": [
    {
     "name": "stdout",
     "output_type": "stream",
     "text": [
      "[1, 4, 9, 16, 25]\n"
     ]
    }
   ],
   "source": [
    "# map(function_name, list_data)\n",
    "\n",
    "ex_list = [1,2,3,4,5]\n",
    "f = lambda x: x**2\n",
    "\n",
    "print(list(map(f, ex_list)))"
   ]
  },
  {
   "cell_type": "code",
   "execution_count": 7,
   "id": "e184b5fa",
   "metadata": {},
   "outputs": [
    {
     "data": {
      "text/plain": [
       "[1, 4, 3, 16, 5]"
      ]
     },
     "execution_count": 7,
     "metadata": {},
     "output_type": "execute_result"
    }
   ],
   "source": [
    "# lambda function filter\n",
    "\n",
    "ex_list = [1,2,3,4,5]\n",
    "f = lambda x: x**2\n",
    "\n",
    "list(map(\n",
    "lambda x: x**2 if x%2==0 else x, ex_list)) # if를 사용했다면 반드시 else 조건도 명시해야함"
   ]
  },
  {
   "cell_type": "code",
   "execution_count": 12,
   "id": "adc08bdd",
   "metadata": {},
   "outputs": [
    {
     "data": {
      "text/plain": [
       "[4, 16]"
      ]
     },
     "execution_count": 12,
     "metadata": {},
     "output_type": "execute_result"
    }
   ],
   "source": [
    "# List Comprehension Version\n",
    "\n",
    "ex_list = [1,2,3,4,5]\n",
    "[ value**2 for value in ex_list if value%2==0 ]"
   ]
  },
  {
   "cell_type": "markdown",
   "id": "ee7c93b4",
   "metadata": {},
   "source": [
    "# Reduce function\n",
    "## index를 한 단위씩 늘려가며 같은 함수를 연쇄적으로 적용"
   ]
  },
  {
   "cell_type": "code",
   "execution_count": 16,
   "id": "13771385",
   "metadata": {},
   "outputs": [
    {
     "name": "stdout",
     "output_type": "stream",
     "text": [
      "15\n"
     ]
    }
   ],
   "source": [
    "from functools import reduce\n",
    "print(reduce(lambda x,y: x+y, [1,2,3,4,5]))\n",
    "\n",
    "# print(reduce(lambda x,y,z: x+y+z, [1,2,3,4,5])) => 오류남!"
   ]
  },
  {
   "cell_type": "code",
   "execution_count": 15,
   "id": "abfdc129",
   "metadata": {},
   "outputs": [
    {
     "name": "stdout",
     "output_type": "stream",
     "text": [
      "120\n"
     ]
    }
   ],
   "source": [
    "from functools import reduce\n",
    "\n",
    "def factorial(n):\n",
    "    result = reduce(lambda x,y: x*y, range(1, n+1))\n",
    "    return result\n",
    "\n",
    "\n",
    "print(factorial(5))"
   ]
  },
  {
   "cell_type": "code",
   "execution_count": null,
   "id": "f5ab6d40",
   "metadata": {},
   "outputs": [],
   "source": []
  }
 ],
 "metadata": {
  "kernelspec": {
   "display_name": "Python 3",
   "language": "python",
   "name": "python3"
  },
  "language_info": {
   "codemirror_mode": {
    "name": "ipython",
    "version": 3
   },
   "file_extension": ".py",
   "mimetype": "text/x-python",
   "name": "python",
   "nbconvert_exporter": "python",
   "pygments_lexer": "ipython3",
   "version": "3.8.10"
  }
 },
 "nbformat": 4,
 "nbformat_minor": 5
}
