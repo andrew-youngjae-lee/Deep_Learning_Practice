{
 "cells": [
  {
   "cell_type": "markdown",
   "metadata": {},
   "source": [
    "## Python Class"
   ]
  },
  {
   "cell_type": "code",
   "execution_count": 1,
   "metadata": {},
   "outputs": [
    {
     "name": "stdout",
     "output_type": "stream",
     "text": [
      "<__main__.test_class object at 0x7f7d1631cc90>\n"
     ]
    }
   ],
   "source": [
    "class test_class:\n",
    "    pass\n",
    "\n",
    "#instantiation : 정의된 클래스의 객체를 만들어내는것 \n",
    "tmp = test_class() #tmp : object, instance\n",
    "print(tmp)"
   ]
  },
  {
   "cell_type": "code",
   "execution_count": 2,
   "metadata": {},
   "outputs": [
    {
     "name": "stdout",
     "output_type": "stream",
     "text": [
      "Hello\n"
     ]
    }
   ],
   "source": [
    "class test_class:\n",
    "    def __init__(self): #class 안에서 만들어진 함수들을 method라고 부른다\n",
    "        print(\"Hello\") #__init(self)__ : initializer = 자동으로 실행되는 method\n",
    "        \n",
    "tmp = test_class()\n",
    "\n",
    "#class = data + behavior(method)로 구성되어있는 객체"
   ]
  },
  {
   "cell_type": "code",
   "execution_count": 3,
   "metadata": {},
   "outputs": [
    {
     "name": "stdout",
     "output_type": "stream",
     "text": [
      "10 20\n"
     ]
    }
   ],
   "source": [
    "class test_class:\n",
    "    def __init__(self, x, y): #initializer 특징2 : class를 이용해 instantiation을 할 때 input을 대신 받아줌 \n",
    "        print(x, y) \n",
    "        \n",
    "tmp = test_class(10, 20)"
   ]
  },
  {
   "cell_type": "markdown",
   "metadata": {},
   "source": [
    "## Class Variable - Instance Variable"
   ]
  },
  {
   "cell_type": "code",
   "execution_count": 5,
   "metadata": {},
   "outputs": [
    {
     "name": "stdout",
     "output_type": "stream",
     "text": [
      "10 20\n",
      "30\n"
     ]
    }
   ],
   "source": [
    "#instance variable\n",
    "\n",
    "class test_class:\n",
    "    def __init__(self, x, y): \n",
    "        self.x = x #instance variable (self.x = 내가 가지고 있는 x) : instance 내부의 모든 method들이 공유할 수 있는 variable\n",
    "        self.y = y\n",
    "        \n",
    "    def adder(self): #self : instance variable에 접근할 수 있도록 해줌\n",
    "        print(self.x + self.y)\n",
    "        \n",
    "tmp = test_class(10, 20)\n",
    "print(tmp.x, tmp.y)\n",
    "tmp.adder()"
   ]
  },
  {
   "cell_type": "code",
   "execution_count": 7,
   "metadata": {},
   "outputs": [
    {
     "name": "stdout",
     "output_type": "stream",
     "text": [
      "10 20 None\n",
      "10 20 30\n"
     ]
    }
   ],
   "source": [
    "class test_class:\n",
    "    def __init__(self, x, y): \n",
    "        self.x = x  \n",
    "        self.y = y\n",
    "        self.add = None\n",
    "        \n",
    "    def adder(self): \n",
    "        self.add = self.x + self.y\n",
    "        \n",
    "tmp = test_class(10, 20)\n",
    "print(tmp.x, tmp.y, tmp.add)\n",
    "tmp.adder()\n",
    "print(tmp.x, tmp.y, tmp.add)"
   ]
  },
  {
   "cell_type": "code",
   "execution_count": 8,
   "metadata": {},
   "outputs": [
    {
     "name": "stdout",
     "output_type": "stream",
     "text": [
      "30 -10 200\n"
     ]
    }
   ],
   "source": [
    "class test_class:\n",
    "    def __init__(self, x, y): \n",
    "        self.x = x  \n",
    "        self.y = y\n",
    "        \n",
    "    def adder(self): \n",
    "        return self.x + self.y\n",
    "        \n",
    "    def subtractor(self):\n",
    "        return self.x - self.y\n",
    "    \n",
    "    def multiplier(self):\n",
    "        return self.x * self.y\n",
    "        \n",
    "tmp = test_class(10, 20)\n",
    "add = tmp.adder()\n",
    "sub = tmp.subtractor()\n",
    "mtp = tmp.multiplier()\n",
    "\n",
    "print(add, sub, mtp)"
   ]
  },
  {
   "cell_type": "code",
   "execution_count": 9,
   "metadata": {},
   "outputs": [
    {
     "name": "stdout",
     "output_type": "stream",
     "text": [
      "[8 8 0 7 8 1 2 2 2 2]\n",
      "4.0\n",
      "3.1304951684997055\n"
     ]
    }
   ],
   "source": [
    "import numpy as np\n",
    "\n",
    "input_data = np.random.randint(0,10,size=(10,))\n",
    "print(input_data)\n",
    "\n",
    "print(input_data.mean())\n",
    "print(input_data.std())"
   ]
  },
  {
   "cell_type": "code",
   "execution_count": 12,
   "metadata": {},
   "outputs": [
    {
     "name": "stdout",
     "output_type": "stream",
     "text": [
      "10 20 1\n",
      "100 200 2\n",
      "200 400 3\n"
     ]
    }
   ],
   "source": [
    "#class variable = class 전체가 공유하는 variable\n",
    "class node: #class node() : ()-상속 받을때 사용\n",
    "    node_cnt = 0 #해당 class에서 파생된 instance들 모두가 접근 가능한 class variable\n",
    "    \n",
    "    def __init__(self, x, y):\n",
    "        self.x, self.y = x, y\n",
    "        \n",
    "        node.node_cnt += 1\n",
    "        \n",
    "node1 = node(10,20)\n",
    "print(node1.x, node1.y, node1.node_cnt)\n",
    "node2 = node(100, 200)\n",
    "print(node2.x, node2.y, node2.node_cnt)\n",
    "node3 = node(200, 400)\n",
    "print(node3.x, node3.y, node3.node_cnt)\n",
    "\n",
    "#x,y = instance variable : 각 instance 내부에서만 공유되는 variable\n",
    "#node_cnt = class variable : 어떤 클래스에서 파생된 instance 모두가 공유하는 variable"
   ]
  },
  {
   "cell_type": "code",
   "execution_count": 13,
   "metadata": {},
   "outputs": [
    {
     "name": "stdout",
     "output_type": "stream",
     "text": [
      "10 20 30 1\n",
      "100 200 300 2\n",
      "200 400 600 3\n"
     ]
    }
   ],
   "source": [
    "class node: \n",
    "    node_cnt = 0 \n",
    "    \n",
    "    def __init__(self, x, y):\n",
    "        self.x, self.y = x, y\n",
    "        self.add = None\n",
    "        self.adder() #adder()를 자동으로 실행시킴\n",
    "        node.node_cnt += 1\n",
    "    \n",
    "    def adder(self):\n",
    "        self.add = self.x + self.y\n",
    "\n",
    "node1 = node(10,20)\n",
    "print(node1.x, node1.y, node1.add, node1.node_cnt)\n",
    "node2 = node(100, 200)\n",
    "print(node2.x, node2.y, node2.add, node2.node_cnt)\n",
    "node3 = node(200, 400)\n",
    "print(node3.x, node3.y, node3.add, node3.node_cnt)"
   ]
  },
  {
   "cell_type": "code",
   "execution_count": 18,
   "metadata": {},
   "outputs": [
    {
     "name": "stdout",
     "output_type": "stream",
     "text": [
      "200\n"
     ]
    }
   ],
   "source": [
    "#python의 특징 : private에 대한 개념 없음\n",
    "#내가 만든 class의 method 중 사용자에게 공개하고 싶지 않은 method => _methodName()\n",
    "class calculator:\n",
    "    def __init__(self, x, y, operator): \n",
    "        self._x = x  \n",
    "        self._y = y\n",
    "        self._operator = operator\n",
    "        \n",
    "        self.result = None\n",
    "        \n",
    "        if self._operator == '+':\n",
    "            self._adder()\n",
    "        elif self._operator == '-':\n",
    "            self._subtractor()\n",
    "        elif self._operator == '*':\n",
    "            self._multiplier()\n",
    "        else:\n",
    "            print(\"Cannot Calculate with that Operator!\")\n",
    "        \n",
    "    def _adder(self): #사용자에게 제공하는 것이 아닌 class 내부적 연산을 위한 method이니 건들지 말라는 의미\n",
    "        self.result = self._x + self._y\n",
    "        \n",
    "    def _subtractor(self):\n",
    "        self.result = self._x - self._y\n",
    "    \n",
    "    def _multiplier(self):\n",
    "        self.result = self._x * self._y\n",
    "        \n",
    "    def get_result(self): #사용자에게 공개한 유일한 method\n",
    "        return self.result\n",
    "    \n",
    "tmp = calculator(10,20,'*')\n",
    "result = tmp.get_result() #get_result method에만 접근할 수 있음\n",
    "print(result)"
   ]
  },
  {
   "cell_type": "code",
   "execution_count": null,
   "metadata": {},
   "outputs": [],
   "source": []
  }
 ],
 "metadata": {
  "kernelspec": {
   "display_name": "Python 3",
   "language": "python",
   "name": "python3"
  },
  "language_info": {
   "codemirror_mode": {
    "name": "ipython",
    "version": 3
   },
   "file_extension": ".py",
   "mimetype": "text/x-python",
   "name": "python",
   "nbconvert_exporter": "python",
   "pygments_lexer": "ipython3",
   "version": "3.7.4"
  }
 },
 "nbformat": 4,
 "nbformat_minor": 2
}
