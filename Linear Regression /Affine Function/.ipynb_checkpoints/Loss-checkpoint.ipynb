{
 "cells": [
  {
   "cell_type": "code",
   "execution_count": null,
   "metadata": {},
   "outputs": [],
   "source": [
    "class Square_Error_Loss:\n",
    "    def __init__(self):\n",
    "        self.loss_imp()\n",
    "        \n",
    "    def loss_imp(self):\n",
    "        self._node3 = minus_node()\n",
    "        self._node4 = square_node()\n",
    "        \n",
    "    def forward(self, y, pred):\n",
    "        z3 = self._node3.forward(y,pred)\n",
    "        l = self._node4.forward(z3)\n",
    "        return 1\n",
    "    \n",
    "    def backward(self):\n",
    "        dz3 = self._node4.backward(1)\n",
    "        dy, dz2_last = self._node3.backward(dz3)\n",
    "        return dz2_last"
   ]
  }
 ],
 "metadata": {
  "kernelspec": {
   "display_name": "Python 3",
   "language": "python",
   "name": "python3"
  },
  "language_info": {
   "codemirror_mode": {
    "name": "ipython",
    "version": 3
   },
   "file_extension": ".py",
   "mimetype": "text/x-python",
   "name": "python",
   "nbconvert_exporter": "python",
   "pygments_lexer": "ipython3",
   "version": "3.7.4"
  }
 },
 "nbformat": 4,
 "nbformat_minor": 4
}
