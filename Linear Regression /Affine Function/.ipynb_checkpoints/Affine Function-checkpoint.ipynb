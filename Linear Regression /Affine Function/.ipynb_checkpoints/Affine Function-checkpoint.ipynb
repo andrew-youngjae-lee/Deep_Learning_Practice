{
 "cells": [
  {
   "cell_type": "code",
   "execution_count": null,
   "metadata": {},
   "outputs": [],
   "source": [
    "class Affine_Function:\n",
    "    def __init__(self , feature_dim):\n",
    "        self._feature_dim = feature_dim\n",
    "        self._Th = Th\n",
    "        \n",
    "        self._Z1_list = [None]*(self._feature_dim + 1)\n",
    "        self._Z2_list = self._Z1_list.copy() \n",
    "        self._dZ1_list, self._dZ2_list =  self._Z1_list.copy(), self._Z1_list.copy()\n",
    "        self._dTh_list = self._Z1_list.copy()\n",
    "        \n",
    "        self.affine_imp()\n",
    "        \n",
    "    def affine_imp(self):\n",
    "        self._node1 = [None] + [mul_node() for _ in range(self._feature_dim)]\n",
    "        self._node2 = [None] + [plus_node() for _ in range(self._feature_dim)]\n",
    "        \n",
    "    def forward(self, X):\n",
    "        for node_idx in range(1, self._feature_dim + 1):\n",
    "            self._Z1_list[node_idx] = self._node1[node_idx].forward(self._Th[node_idx], X[:,node_idx])\n",
    "            \n",
    "        self._Z2_list[1] = self._node2[1].forward(self._Th[0], self._Z1_list[1])\n",
    "        \n",
    "        for node_idx in range(2, self._feature_dim + 1):\n",
    "            self._Z2_list[node_idx] = self._node2[node_idx].forward(self._Z2_list[node_idx-1], self._Z1_list[node_idx])\n",
    "            \n",
    "        return self._Z2_list[-1]\n",
    "    \n",
    "    def backward(self, dZ2_last, lr):\n",
    "        self._dZ2_list[-1] = dZ2_last\n",
    "\n",
    "        for node_idx in reversed(range(1, self._feature_dim + 1)):\n",
    "            dZ2, dZ1 = self._node2[node_idx].backward(self._dZ2_list[node_idx])\n",
    "            self._dZ2_list[node_idx-1] = dZ2\n",
    "            self._dZ1_list[node_idx] = dZ1\n",
    "    \n",
    "        self._dTh_list[0] = self._dZ2_list[0]\n",
    "\n",
    "        for node_idx in reversed(range(1, self._feature_dim + 1)):\n",
    "            dTh, _ = self._node1[node_idx].backward(self._dZ1_list[node_idx])\n",
    "            self._dTh_list[node_idx] = dTh\n",
    "        \n",
    "        for th_idx in range(self._Th.shape[0]):\n",
    "            self._Th[th_idx] = self._Th[th_idx] - lr*np.sum(self._dTh_list[th_idx])\n",
    "        \n",
    "        return self._Th\n",
    "        "
   ]
  }
 ],
 "metadata": {
  "kernelspec": {
   "display_name": "Python 3",
   "language": "python",
   "name": "python3"
  },
  "language_info": {
   "codemirror_mode": {
    "name": "ipython",
    "version": 3
   },
   "file_extension": ".py",
   "mimetype": "text/x-python",
   "name": "python",
   "nbconvert_exporter": "python",
   "pygments_lexer": "ipython3",
   "version": "3.7.4"
  }
 },
 "nbformat": 4,
 "nbformat_minor": 4
}
