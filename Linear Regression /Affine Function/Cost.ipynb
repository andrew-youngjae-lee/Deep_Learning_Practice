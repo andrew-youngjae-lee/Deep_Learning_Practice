{
 "cells": [
  {
   "cell_type": "code",
   "execution_count": null,
   "metadata": {},
   "outputs": [],
   "source": [
    "class MSE_Cost:\n",
    "    def __init__(self):\n",
    "        self.cost_imp()\n",
    "        \n",
    "    def cost_imp(self):\n",
    "        self._node3 = minus_node()\n",
    "        self._node4 = square_node()\n",
    "        self._node5 = mean_node()\n",
    "        \n",
    "    def forward(self, Y, Pred):\n",
    "        Z3 = self._node3.forward(Y, Pred)\n",
    "        Z4 = self._node4.forward(Z3)\n",
    "        J = self._node5.forward(Z4)\n",
    "        return J\n",
    "    \n",
    "    def backward(self):\n",
    "        dZ4 = self._node5.backward(1)\n",
    "        dZ3 = self._node4.backward(dZ4)\n",
    "        _, dZ2_last = self._node3.backward(dZ3)\n",
    "        return dZ2_last"
   ]
  }
 ],
 "metadata": {
  "kernelspec": {
   "display_name": "Python 3",
   "language": "python",
   "name": "python3"
  },
  "language_info": {
   "codemirror_mode": {
    "name": "ipython",
    "version": 3
   },
   "file_extension": ".py",
   "mimetype": "text/x-python",
   "name": "python",
   "nbconvert_exporter": "python",
   "pygments_lexer": "ipython3",
   "version": "3.7.4"
  }
 },
 "nbformat": 4,
 "nbformat_minor": 4
}
