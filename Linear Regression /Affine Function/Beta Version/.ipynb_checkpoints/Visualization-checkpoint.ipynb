{
 "cells": [
  {
   "cell_type": "code",
   "execution_count": null,
   "metadata": {},
   "outputs": [],
   "source": [
    "def result_visualization(th_accum, loss_list):\n",
    "    fig, ax = plt.subplots(2,1, figsize = (40,20))\n",
    "    for i in range(feature_dim + 1):\n",
    "        ax[0].plot(th_accum[i], label = r'$\\theta_{%d}$'%i, linewidth = 5)\n",
    "            \n",
    "    ax[1].plot(loss_list)\n",
    "        \n",
    "    ax[0].legend(loc = 'lower right', fontsize = 30)\n",
    "    ax[0].tick_params(axis = 'both', labelsize = 30)\n",
    "    ax[1].tick_params(axis = 'both', labelsize = 30)\n",
    "        \n",
    "    ax[0].set_title(r'$\\vec{\\theta}$', fontsize = 40)\n",
    "    ax[1].set_title('Loss', fontsize = 40)"
   ]
  }
 ],
 "metadata": {
  "kernelspec": {
   "display_name": "Python 3",
   "language": "python",
   "name": "python3"
  },
  "language_info": {
   "codemirror_mode": {
    "name": "ipython",
    "version": 3
   },
   "file_extension": ".py",
   "mimetype": "text/x-python",
   "name": "python",
   "nbconvert_exporter": "python",
   "pygments_lexer": "ipython3",
   "version": "3.7.4"
  }
 },
 "nbformat": 4,
 "nbformat_minor": 4
}
