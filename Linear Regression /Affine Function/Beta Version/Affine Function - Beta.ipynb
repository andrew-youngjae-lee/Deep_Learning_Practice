{
 "cells": [
  {
   "cell_type": "code",
   "execution_count": null,
   "metadata": {},
   "outputs": [],
   "source": [
    "class Affine_Function:\n",
    "    def __init__(self , feature_dim):\n",
    "        self._feature_dim = feature_dim\n",
    "        self._Th = Th\n",
    "        \n",
    "        self._z1_list = [None]*(self._feature_dim + 1)\n",
    "        self._z2_list = self._z1_list.copy() \n",
    "        self._dz1_list, self._dz2_list =  self._z1_list.copy(), self._z1_list.copy()\n",
    "        self._dth_list = self._z1_list.copy()\n",
    "        \n",
    "        self.affine_imp()\n",
    "        \n",
    "    def affine_imp(self):\n",
    "        self._node1 = [None] + [mul_node() for _ in range(self._feature_dim)]\n",
    "        self._node2 = [None] + [plus_node() for _ in range(self._feature_dim)]\n",
    "        \n",
    "    def forward(self, X):\n",
    "        for node_idx in range(1, self._feature_dim + 1):\n",
    "            self._z1_list[node_idx] = self._node1[node_idx].forward(self._Th[node_idx], X[node_idx])\n",
    "            \n",
    "        self._z2_list[1] = self._node2[1].forward(self._Th[0], self._z1_list[1])\n",
    "        \n",
    "        for node_idx in range(2, self._feature_dim + 1):\n",
    "            self._z2_list[node_idx] = self._node2[node_idx].forward(self._z2_list[node_idx-1], self._z1_list[node_idx])\n",
    "            \n",
    "        return self._z2_list[-1]\n",
    "    \n",
    "    def backward(self, dz2_last, lr):\n",
    "        self._dz2_list[-1] = dz2_last\n",
    "\n",
    "        for node_idx in reversed(range(1, self._feature_dim + 1)):\n",
    "            dz2, dz1 = self._node2[node_idx].backward(self._dz2_list[node_idx])\n",
    "            self._dz2_list[node_idx-1] = dz2\n",
    "            self._dz1_list[node_idx] = dz1\n",
    "    \n",
    "        self._dth_list[0] = self._dz2_list[0]\n",
    "\n",
    "        for node_idx in reversed(range(1, self._feature_dim + 1)):\n",
    "            dth, _ = self._node1[node_idx].backward(self._dz1_list[node_idx])\n",
    "            self._dth_list[node_idx] = dth\n",
    "    \n",
    "        self._Th = self._Th - lr*np.array(self._dth_list).reshape(-1,1)\n",
    "        return self._Th\n",
    "        "
   ]
  }
 ],
 "metadata": {
  "kernelspec": {
   "display_name": "Python 3",
   "language": "python",
   "name": "python3"
  },
  "language_info": {
   "codemirror_mode": {
    "name": "ipython",
    "version": 3
   },
   "file_extension": ".py",
   "mimetype": "text/x-python",
   "name": "python",
   "nbconvert_exporter": "python",
   "pygments_lexer": "ipython3",
   "version": "3.7.4"
  }
 },
 "nbformat": 4,
 "nbformat_minor": 4
}
