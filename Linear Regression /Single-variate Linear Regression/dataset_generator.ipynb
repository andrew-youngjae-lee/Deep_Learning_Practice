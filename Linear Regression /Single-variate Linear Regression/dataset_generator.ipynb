{
 "cells": [
  {
   "cell_type": "code",
   "execution_count": null,
   "metadata": {},
   "outputs": [],
   "source": [
    "import numpy as np\n",
    "import matplotlib.pyplot as plt\n",
    "\n",
    "class dataset_generator: \n",
    "    def __init__(self, feature_dim = 1, n_sample = 100, noise = 0):\n",
    "        self._feature_dim = feature_dim\n",
    "        self._n_sample = n_sample\n",
    "        self._noise = noise\n",
    "        \n",
    "        self._coefficient = None\n",
    "        self._init_set_coefficient()\n",
    "        \n",
    "    def _init_set_coefficient(self): \n",
    "        self._coefficient = [1 for _ in range(self._feature_dim)] + [0] \n",
    "        \n",
    "    def set_n_sample(self, n_sample): #사용자가 접근할 수 있는 method\n",
    "        self._n_sample = n_sample #n_sample을 default인 100이 아닌 사용자가 지정한 값으로 지정해줌\n",
    "        \n",
    "    def set_noise(self, noise): #사용자가 접근할 수 있는 method\n",
    "        self._noise = noise\n",
    "        \n",
    "    def set_coefficient(self, coefficient_list): #사용자가 접근할 수 있는 method\n",
    "        self._coefficient = coefficient_list\n",
    "        \n",
    "    def make_dataset(self):\n",
    "        x_data = np.random.normal(0,1, size = (self._n_sample, self._feature_dim))\n",
    "        y_data = np.zeros(shape = (self._n_sample, 1))\n",
    "        for feature_idx in range(self._feature_dim):\n",
    "            y_data += self._coefficient[feature_idx] * x_data[:,feature_idx].reshape(-1,1)\n",
    "            y_data += self._coefficient[-1] #배열 맨 마지막인 bias를 더해줌\n",
    "            y_data += self._noise * np.random.normal(0,1,size = (self._n_sample, 1))\n",
    "        return x_data, y_data"
   ]
  }
 ],
 "metadata": {
  "kernelspec": {
   "display_name": "Python 3",
   "language": "python",
   "name": "python3"
  },
  "language_info": {
   "codemirror_mode": {
    "name": "ipython",
    "version": 3
   },
   "file_extension": ".py",
   "mimetype": "text/x-python",
   "name": "python",
   "nbconvert_exporter": "python",
   "pygments_lexer": "ipython3",
   "version": "3.7.4"
  }
 },
 "nbformat": 4,
 "nbformat_minor": 4
}
