{
 "cells": [
  {
   "cell_type": "markdown",
   "metadata": {},
   "source": [
    "# SVLR Class"
   ]
  },
  {
   "cell_type": "code",
   "execution_count": null,
   "metadata": {},
   "outputs": [],
   "source": [
    "class SVLR:\n",
    "    def __init__(self, th1, th0): \n",
    "        self.th1, self.th0 = th1, th0\n",
    "        \n",
    "        self.th1_list, self.th0_list = [], []\n",
    "        self.cost_list = []\n",
    "        \n",
    "        self.iter_cnt, self.check_cnt = 0, 0\n",
    "        \n",
    "        self.model_imp()\n",
    "        self.cost_imp()\n",
    "        \n",
    "    def model_imp(self):\n",
    "        self.node1 = mul_node()\n",
    "        self.node2 = plus_node()\n",
    "        \n",
    "    def cost_imp(self):\n",
    "        self.node3 = minus_node()\n",
    "        self.node4 = square_node()\n",
    "        self.node5 = mean_node()\n",
    "        \n",
    "    def forward(self, mini_batch):\n",
    "        self.iter_cnt += 1\n",
    "        \n",
    "        Z1 = self.node1.forward(self.th1, mini_batch[:,0])\n",
    "        Z2 = self.node2.forward(Z1, self.th0)\n",
    "        Z3 = self.node3.forward(mini_batch[:,1], z2)\n",
    "        L = self.node4.forward(Z3)\n",
    "        J = self.node5.forward(L)\n",
    "        \n",
    "        if self.iter_cnt % check_freq == 0 or self.iter_cnt == 1:\n",
    "            self.cost_list.append(J)\n",
    "            \n",
    "    def backward(self, lr):\n",
    "        if self.iter_cnt % check_freq == 0 or self.iter_cnt == 1:\n",
    "            self.th1_list.append(self.th1)\n",
    "            self.th0_list.append(self.th0)\n",
    "            self.check_cnt += 1\n",
    "            \n",
    "        dL = self.node5.backward(1)\n",
    "        dz3 = self.node4.backward(dL)\n",
    "        dY, dz2 = self.node3.backward(dz3)\n",
    "        dz1, dTh0 = self.node2.backward(dz2)\n",
    "        dTh1, dX = self.node1.backward(dz1)\n",
    "        \n",
    "        self.th1 = self.th1 - lr*np.sum(dTh1)\n",
    "        self.th0 = self.th0 - lr*np.sum(dTh0)\n",
    "        \n",
    "    def result_visualization(self):\n",
    "        fig, ax = plt.subplots(2,1,figsize = (30,15))\n",
    "        ax[0].plot(self.th1_list, label = r'$\\theta_{1}$')\n",
    "        ax[0].plot(self.th0_list, label = r'$\\theta_{0}$')\n",
    "        ax[1].plot(self.cost_list)\n",
    "        \n",
    "        \n",
    "\n",
    "\n",
    "        "
   ]
  }
 ],
 "metadata": {
  "kernelspec": {
   "display_name": "Python 3",
   "language": "python",
   "name": "python3"
  },
  "language_info": {
   "codemirror_mode": {
    "name": "ipython",
    "version": 3
   },
   "file_extension": ".py",
   "mimetype": "text/x-python",
   "name": "python",
   "nbconvert_exporter": "python",
   "pygments_lexer": "ipython3",
   "version": "3.7.4"
  }
 },
 "nbformat": 4,
 "nbformat_minor": 4
}
