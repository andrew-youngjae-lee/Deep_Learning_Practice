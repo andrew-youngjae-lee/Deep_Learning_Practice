{
 "cells": [
  {
   "cell_type": "code",
   "execution_count": null,
   "metadata": {},
   "outputs": [],
   "source": [
    "x_dict = {'mean':1, 'std':1, 'n_sample':300, \n",
    "          'noise_factor':0.3, \n",
    "          'cutoff':1, 'direction':1}\n",
    "\n",
    "def dataset_generator(x_dict):\n",
    "\n",
    "    x_data = np.random.normal(x_dict['mean'], x_dict['std'], x_dict['n_sample'])\n",
    "    x_data_noise = x_data + x_dict['noise_factor']*np.random.normal(0,1,x_dict['n_sample'])\n",
    "    \n",
    "    if x_dict['direction'] > 0:\n",
    "        y_data = (x_data_noise > x_dict['cutoff']).astype(np.int)\n",
    "    else:\n",
    "        y_data = (x_data_noise < x_dict['cutoff']).astype(np.int)\n",
    "    \n",
    "    data = np.zeros(shape = (x_dict['n_sample'],1))\n",
    "    data = np.hstack((data, x_data.reshape(-1,1), y_data.reshape(-1,1)))\n",
    "\n",
    "    return data"
   ]
  }
 ],
 "metadata": {
  "kernelspec": {
   "display_name": "Python 3",
   "language": "python",
   "name": "python3"
  },
  "language_info": {
   "codemirror_mode": {
    "name": "ipython",
    "version": 3
   },
   "file_extension": ".py",
   "mimetype": "text/x-python",
   "name": "python",
   "nbconvert_exporter": "python",
   "pygments_lexer": "ipython3",
   "version": "3.7.4"
  }
 },
 "nbformat": 4,
 "nbformat_minor": 4
}
