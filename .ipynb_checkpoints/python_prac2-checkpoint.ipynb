{
 "cells": [
  {
   "cell_type": "markdown",
   "metadata": {},
   "source": [
    "## for loop and if statement"
   ]
  },
  {
   "cell_type": "code",
   "execution_count": 4,
   "metadata": {},
   "outputs": [
    {
     "name": "stdout",
     "output_type": "stream",
     "text": [
      "0 10\n",
      "1 11\n",
      "2 12\n",
      "3 13\n",
      "4 14\n",
      "5 15\n",
      "6 16\n",
      "7 17\n",
      "8 18\n",
      "9 19\n",
      "10\n",
      "11\n",
      "12\n",
      "13\n",
      "14\n",
      "15\n",
      "16\n",
      "17\n",
      "18\n",
      "19\n"
     ]
    }
   ],
   "source": [
    "tmp_list = [(i+10) for i in range(10)]\n",
    "for data_idx in range(len(tmp_list)): #코드 이해도 높이기 위해 i대신 data_idx, 범위 실수 방지 위해 len 사용\n",
    "    print(data_idx, tmp_list[data_idx]) #명시적인 숫자 대신 앞부분 코드에 등장한 변수 정보를 이용해야 실수 방지 가능\n",
    "    \n",
    "for data in tmp_list: #데이터에 직접적으로 접근하는 방법 #tmp_list 자리에 iterative object가 위치하면됨\n",
    "    print(data)"
   ]
  },
  {
   "cell_type": "code",
   "execution_count": 8,
   "metadata": {},
   "outputs": [
    {
     "name": "stdout",
     "output_type": "stream",
     "text": [
      "0 10 20 30\n",
      "1 11 21 32\n",
      "2 12 22 34\n",
      "3 13 23 36\n",
      "4 14 24 38\n",
      "5 15 25 40\n",
      "6 16 26 42\n",
      "7 17 27 44\n",
      "8 18 28 46\n",
      "9 19 29 48\n",
      "10 20 30 50\n"
     ]
    }
   ],
   "source": [
    "tmp_list = [(i+10) for i in range(11)]\n",
    "tmp_list2 = [(i+20) for i in range(11)]\n",
    "\n",
    "for data_idx in range(len(tmp_list)):\n",
    "    print(data_idx, tmp_list[data_idx], tmp_list2[data_idx], tmp_list[data_idx]+tmp_list2[data_idx])"
   ]
  },
  {
   "cell_type": "code",
   "execution_count": 9,
   "metadata": {},
   "outputs": [
    {
     "name": "stdout",
     "output_type": "stream",
     "text": [
      "0 10\n",
      "1 11\n",
      "2 12\n",
      "3 13\n",
      "4 14\n",
      "5 15\n",
      "6 16\n",
      "7 17\n",
      "8 18\n",
      "9 19\n",
      "10 20\n"
     ]
    }
   ],
   "source": [
    "# enumerate() 함수 : data에 접근함과 동시에 index값도 같이 받아옴\n",
    "for data_idx, data in enumerate(tmp_list):\n",
    "    print(data_idx, data)"
   ]
  },
  {
   "cell_type": "markdown",
   "metadata": {},
   "source": [
    "# for문을 이용하여 평균 구해보기"
   ]
  },
  {
   "cell_type": "code",
   "execution_count": 10,
   "metadata": {},
   "outputs": [
    {
     "name": "stdout",
     "output_type": "stream",
     "text": [
      "15.0\n"
     ]
    }
   ],
   "source": [
    "tmp_list = [(i+10) for i in range(11)]\n",
    "\n",
    "sum_val = 0\n",
    "for data_idx, data in enumerate(tmp_list):\n",
    "    sum_val += data\n",
    "mean = sum_val / len(tmp_list)\n",
    "print(mean)"
   ]
  },
  {
   "cell_type": "code",
   "execution_count": 11,
   "metadata": {},
   "outputs": [
    {
     "name": "stdout",
     "output_type": "stream",
     "text": [
      "50\n",
      "51\n",
      "52\n",
      "53\n",
      "54\n",
      "55\n",
      "56\n",
      "57\n",
      "58\n",
      "59\n"
     ]
    }
   ],
   "source": [
    "tmp_list = [(i+10) for i in range(100)]\n",
    "\n",
    "for data_idx, data in enumerate(tmp_list):\n",
    "    if data >= 50 and data < 60:\n",
    "        print(data)"
   ]
  },
  {
   "cell_type": "code",
   "execution_count": 12,
   "metadata": {},
   "outputs": [
    {
     "name": "stdout",
     "output_type": "stream",
     "text": [
      "54.5\n"
     ]
    }
   ],
   "source": [
    "tmp_list = [(i+10) for i in range(100)]\n",
    "sum_val = 0\n",
    "data_cnt = 0\n",
    "for data_idx, data in enumerate(tmp_list):\n",
    "    if data >= 50 and data < 60:\n",
    "        sum_val += data\n",
    "        data_cnt += 1\n",
    "\n",
    "mean = sum_val / data_cnt\n",
    "print(mean)"
   ]
  },
  {
   "cell_type": "markdown",
   "metadata": {},
   "source": [
    "# 최댓값과 최솟값 구하기"
   ]
  },
  {
   "cell_type": "code",
   "execution_count": 16,
   "metadata": {},
   "outputs": [
    {
     "name": "stdout",
     "output_type": "stream",
     "text": [
      "[-10, -9, -8, -7, -6, -5, -4, -3, -2, -1]\n",
      "-1\n",
      "-10\n"
     ]
    }
   ],
   "source": [
    "#초기값 설정 주의! (주어진 데이터 배열의 범위를 알 수 없으면 버그 가능성 높음)\n",
    "tmp_list = [(i-10) for i in range(10)]\n",
    "print(tmp_list)\n",
    "\n",
    "Max = None #초기값을 0으로 넣으면 배열안에 음수가 들어갈 때 오류\n",
    "min = None\n",
    "for data in tmp_list:\n",
    "    if Max == None or data > Max: #처음 시작할때 Max==None 조건에 걸려 Max값이 배열 안의 첫번째 값으로 초기화됨!\n",
    "        Max = data                 #조건문 순서 바꾸면 오류(or 연산에서 앞부분 식이 맞으면 뒷부분 식 안보고 넘어가서 가능한것)\n",
    "    if min == None or data < min:#integer와 None을 비교할 수 없으므로 순서 바꾸면 오류 \n",
    "        min = data\n",
    "\n",
    "print(Max)\n",
    "print(min)"
   ]
  },
  {
   "cell_type": "code",
   "execution_count": 19,
   "metadata": {},
   "outputs": [
    {
     "name": "stdout",
     "output_type": "stream",
     "text": [
      "Score  -1 is Invalid Score.\n",
      "[10, 11, 12, 13, 14, 15, 16, 17, 18, 19, 20, 21, 22, 23, 24, 25, 26, 27, 28, 29, 30, 31, 32, 33, 34, 35, 36, 37, 38, 39, 40, 41, 42, 43, 44, 45, 46, 47, 48, 49, 50, 51, 52, 53, 54, 55, 56, 57, 58, 59, 60, 61, 62, 63, 64, 65, 66, 67, 68, 69, 70, 71, 72, 73, 74, 75, 76, 77, 78, 79, 80, 81, 82, 83, 84, 85, 86, 87, 88, 89, 90, 91, 92, 93, 94, 95, 96, 97, 98, 99, -1]\n",
      "Number of A :  10\n",
      "Number of B :  10\n",
      "Number of F :  70\n"
     ]
    }
   ],
   "source": [
    "score_list = [(i+10) for i in range(90)] + [-1]\n",
    "\n",
    "grade_list = [0,0,0]\n",
    "for score in score_list:\n",
    "    if score >= 90 and score < 101:\n",
    "        grade_list[0] = grade_list[0] + 1\n",
    "    elif score >= 80 and score < 90:\n",
    "        grade_list[1] = grade_list[1] + 1\n",
    "    elif score < 80 and score >= 0:\n",
    "        grade_list[2] = grade_list[2] + 1\n",
    "    else: #예외처리로 많이 활용\n",
    "        print(\"Score \", score , \"is Invalid Score.\")\n",
    "\n",
    "print(score_list)\n",
    "\n",
    "print(\"Number of A : \", grade_list[0])\n",
    "print(\"Number of B : \", grade_list[1])\n",
    "print(\"Number of F : \", grade_list[2])\n",
    "\n",
    "    "
   ]
  },
  {
   "cell_type": "code",
   "execution_count": 20,
   "metadata": {},
   "outputs": [
    {
     "ename": "ScoreError",
     "evalue": "INVALID SCORE",
     "output_type": "error",
     "traceback": [
      "\u001b[0;31m--------------------------------------------------------------\u001b[0m",
      "\u001b[0;31mScoreError\u001b[0m                   Traceback (most recent call last)",
      "\u001b[0;32m<ipython-input-20-0e1834b5f582>\u001b[0m in \u001b[0;36m<module>\u001b[0;34m\u001b[0m\n\u001b[1;32m     12\u001b[0m         \u001b[0;32mclass\u001b[0m \u001b[0mScoreError\u001b[0m\u001b[0;34m(\u001b[0m\u001b[0mException\u001b[0m\u001b[0;34m)\u001b[0m\u001b[0;34m:\u001b[0m\u001b[0;34m\u001b[0m\u001b[0;34m\u001b[0m\u001b[0m\n\u001b[1;32m     13\u001b[0m             \u001b[0;32mpass\u001b[0m\u001b[0;34m\u001b[0m\u001b[0;34m\u001b[0m\u001b[0m\n\u001b[0;32m---> 14\u001b[0;31m         \u001b[0;32mraise\u001b[0m \u001b[0mScoreError\u001b[0m\u001b[0;34m(\u001b[0m\u001b[0;34m\"INVALID SCORE\"\u001b[0m\u001b[0;34m)\u001b[0m\u001b[0;34m\u001b[0m\u001b[0;34m\u001b[0m\u001b[0m\n\u001b[0m\u001b[1;32m     15\u001b[0m \u001b[0;34m\u001b[0m\u001b[0m\n\u001b[1;32m     16\u001b[0m \u001b[0mprint\u001b[0m\u001b[0;34m(\u001b[0m\u001b[0mscore_list\u001b[0m\u001b[0;34m)\u001b[0m\u001b[0;34m\u001b[0m\u001b[0;34m\u001b[0m\u001b[0m\n",
      "\u001b[0;31mScoreError\u001b[0m: INVALID SCORE"
     ]
    }
   ],
   "source": [
    "score_list = [(i+10) for i in range(90)] + [-1]\n",
    "\n",
    "grade_list = [0,0,0]\n",
    "for score in score_list:\n",
    "    if score >= 90 and score < 101:\n",
    "        grade_list[0] = grade_list[0] + 1\n",
    "    elif score >= 80 and score < 90:\n",
    "        grade_list[1] = grade_list[1] + 1\n",
    "    elif score < 80 and score >= 0:\n",
    "        grade_list[2] = grade_list[2] + 1\n",
    "    else: #예외처리로 많이 활용\n",
    "        class ScoreError(Exception):\n",
    "            pass\n",
    "        raise ScoreError(\"INVALID SCORE\") #에러를 생성해내기\n",
    "\n",
    "print(score_list)\n",
    "\n",
    "print(\"Number of A : \", grade_list[0])\n",
    "print(\"Number of B : \", grade_list[1])\n",
    "print(\"Number of F : \", grade_list[2])"
   ]
  },
  {
   "cell_type": "code",
   "execution_count": null,
   "metadata": {},
   "outputs": [],
   "source": []
  }
 ],
 "metadata": {
  "kernelspec": {
   "display_name": "Python 3",
   "language": "python",
   "name": "python3"
  },
  "language_info": {
   "codemirror_mode": {
    "name": "ipython",
    "version": 3
   },
   "file_extension": ".py",
   "mimetype": "text/x-python",
   "name": "python",
   "nbconvert_exporter": "python",
   "pygments_lexer": "ipython3",
   "version": "3.7.4"
  }
 },
 "nbformat": 4,
 "nbformat_minor": 2
}
